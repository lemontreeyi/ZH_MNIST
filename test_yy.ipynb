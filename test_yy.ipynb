{
 "cells": [
  {
   "cell_type": "code",
   "execution_count": 1,
   "metadata": {},
   "outputs": [],
   "source": [
    "from module_yy import ZH_MNIST\n",
    "import torch\n",
    "import torchvision\n",
    "from torchvision.datasets import ImageFolder\n",
    "\n",
    "module = ZH_MNIST()     # 加载模型\n",
    "dict = torch.load(\"ZH_Module.pth\")      # 加载训练好的模型参数\n",
    "module.load_state_dict(dict)\n",
    "module = module.cuda()\n",
    "\n",
    "test_dir = \"./Data/test_data\"\n",
    "dataset_test = ImageFolder(test_dir, transform=torchvision.transforms.ToTensor())   # 1000个\n",
    "batch_size = 5\n",
    "dataloader_test = torch.utils.data.DataLoader(dataset_test, batch_size=batch_size, shuffle=False, num_workers=0, drop_last=False)   # 不打乱顺序"
   ]
  },
  {
   "cell_type": "code",
   "execution_count": 2,
   "metadata": {},
   "outputs": [
    {
     "name": "stdout",
     "output_type": "stream",
     "text": [
      "==============next num===========\n",
      "==============next num===========\n",
      "==============next num===========\n",
      "==============next num===========\n",
      "==============next num===========\n",
      "==============next num===========\n",
      "==============next num===========\n",
      "==============next num===========\n",
      "==============next num===========\n",
      "==============next num===========\n",
      "测试集上的平均准确率为：0.9430000185966492\n"
     ]
    }
   ],
   "source": [
    "module.eval()\n",
    "total_accuracy = 0\n",
    "count = 0\n",
    "with torch.no_grad():\n",
    "    for imgs,labels in dataloader_test:\n",
    "        if(count % 20 == 0):\n",
    "            print(\"==============next num===========\")\n",
    "        imgs = imgs.cuda()\n",
    "        labels = labels.cuda()\n",
    "        output = module(imgs)\n",
    "        accuracy = (output.argmax(1) == labels).sum()\n",
    "        total_accuracy += accuracy\n",
    "        count += 1\n",
    "average_accuracy = total_accuracy / len(dataset_test)\n",
    "print(f\"测试集上的平均准确率为：{average_accuracy}\")"
   ]
  }
 ],
 "metadata": {
  "interpreter": {
   "hash": "97c26c7ca7ddf33bfe25a065a1a569171b4edb8af926135ebe171d67f7afa26c"
  },
  "kernelspec": {
   "display_name": "Python 3.9.0 ('py39')",
   "language": "python",
   "name": "python3"
  },
  "language_info": {
   "codemirror_mode": {
    "name": "ipython",
    "version": 3
   },
   "file_extension": ".py",
   "mimetype": "text/x-python",
   "name": "python",
   "nbconvert_exporter": "python",
   "pygments_lexer": "ipython3",
   "version": "3.9.0"
  },
  "orig_nbformat": 4
 },
 "nbformat": 4,
 "nbformat_minor": 2
}
