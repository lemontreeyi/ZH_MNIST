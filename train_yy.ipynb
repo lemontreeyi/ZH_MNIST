{
 "cells": [
  {
   "cell_type": "markdown",
   "metadata": {},
   "source": [
    "导入需要的包 & 声明数据集存放路径"
   ]
  },
  {
   "cell_type": "code",
   "execution_count": 1,
   "metadata": {},
   "outputs": [],
   "source": [
    "import torch\n",
    "import torchvision\n",
    "from torchvision.datasets import ImageFolder\n",
    "from torch import nn\n",
    "from torch.utils.tensorboard import SummaryWriter\n",
    "train_dir = \"./Data/train_data\"\n",
    "valid_dir = \"./Data/valid_data\"\n",
    "writer = SummaryWriter(\"logs\")"
   ]
  },
  {
   "cell_type": "markdown",
   "metadata": {},
   "source": [
    "使用torchvision库的ImageFolder读取数据集->train，valid，test"
   ]
  },
  {
   "cell_type": "code",
   "execution_count": 2,
   "metadata": {},
   "outputs": [
    {
     "data": {
      "text/plain": [
       "torch.Size([3, 64, 64])"
      ]
     },
     "execution_count": 2,
     "metadata": {},
     "output_type": "execute_result"
    }
   ],
   "source": [
    "dataset_train = ImageFolder(train_dir, transform=torchvision.transforms.ToTensor()) # 7000个\n",
    "dataset_valid = ImageFolder(valid_dir, transform=torchvision.transforms.ToTensor()) # 2000个\n",
    "\n",
    "dataset_train[0][0].shape"
   ]
  },
  {
   "cell_type": "markdown",
   "metadata": {},
   "source": [
    "使用DataLoader加载数据集"
   ]
  },
  {
   "cell_type": "code",
   "execution_count": 3,
   "metadata": {},
   "outputs": [],
   "source": [
    "batchsize = 256\n",
    "dataloader_train = torch.utils.data.DataLoader(dataset_train, batch_size=batchsize, shuffle=True, num_workers=0, drop_last=False)\n",
    "dataloader_valid = torch.utils.data.DataLoader(dataset_valid, batch_size=batchsize, shuffle=True, num_workers=0, drop_last=False)"
   ]
  },
  {
   "cell_type": "markdown",
   "metadata": {},
   "source": [
    "模型搭建:\n",
    "\n",
    "4层conv2卷积（kernel=3）,padding=same\n",
    "\n",
    "Faltten->(256x(64 * 8 * 8))\n",
    "\n",
    "FC1->(256x128)\n",
    "\n",
    "Droupout正则化\n",
    "\n",
    "FC2->(256x10)\n",
    "\n",
    "softmax->得到十个类别的概率"
   ]
  },
  {
   "cell_type": "code",
   "execution_count": 4,
   "metadata": {},
   "outputs": [],
   "source": [
    "from module_yy import ZH_MNIST"
   ]
  },
  {
   "cell_type": "markdown",
   "metadata": {},
   "source": [
    "训练参数设置"
   ]
  },
  {
   "cell_type": "code",
   "execution_count": 5,
   "metadata": {},
   "outputs": [],
   "source": [
    "n_epochs = 25\n",
    "learning_rate = 0.0028\n",
    "total_train_step = 0    # 训练的次数\n",
    "total_valid_step = 0    # 测试的次数"
   ]
  },
  {
   "cell_type": "markdown",
   "metadata": {},
   "source": [
    "创建模型，并转换到GPU上训练"
   ]
  },
  {
   "cell_type": "code",
   "execution_count": 6,
   "metadata": {},
   "outputs": [],
   "source": [
    "module = ZH_MNIST()\n",
    "module = module.cuda()"
   ]
  },
  {
   "cell_type": "markdown",
   "metadata": {},
   "source": [
    "优化器 & 损失函数"
   ]
  },
  {
   "cell_type": "code",
   "execution_count": 7,
   "metadata": {},
   "outputs": [],
   "source": [
    "loss = nn.CrossEntropyLoss()\n",
    "loss = loss.cuda()\n",
    "optimizer = torch.optim.Adam(module.parameters(), lr=learning_rate)"
   ]
  },
  {
   "cell_type": "markdown",
   "metadata": {},
   "source": [
    "开始训练 & 验证"
   ]
  },
  {
   "cell_type": "code",
   "execution_count": 8,
   "metadata": {},
   "outputs": [
    {
     "name": "stdout",
     "output_type": "stream",
     "text": [
      "==========epoch_1===========\n",
      "average_train_loss: 2.296346970966884\n",
      "valid_loss: 0.00907253909111023\n",
      "验证集上的准确率: 0.14000000059604645\n",
      "==========epoch_2===========\n",
      "average_train_loss: 2.124115437269211\n",
      "valid_loss: 0.008055217027664185\n",
      "验证集上的准确率: 0.4480000138282776\n",
      "==========epoch_3===========\n",
      "average_train_loss: 1.9101424515247345\n",
      "valid_loss: 0.007434189260005951\n",
      "验证集上的准确率: 0.6045000553131104\n",
      "==========epoch_4===========\n",
      "average_train_loss: 1.7753223053046636\n",
      "valid_loss: 0.007179305136203766\n",
      "验证集上的准确率: 0.6685000061988831\n",
      "==========epoch_5===========\n",
      "average_train_loss: 1.7092725123677934\n",
      "valid_loss: 0.006787734270095825\n",
      "验证集上的准确率: 0.7660000324249268\n",
      "==========epoch_6===========\n",
      "average_train_loss: 1.6557028932230813\n",
      "valid_loss: 0.006621342718601227\n",
      "验证集上的准确率: 0.8110000491142273\n",
      "==========epoch_7===========\n",
      "average_train_loss: 1.6109897451741355\n",
      "valid_loss: 0.00642856776714325\n",
      "验证集上的准确率: 0.8580000400543213\n",
      "==========epoch_8===========\n",
      "average_train_loss: 1.5820407313959939\n",
      "valid_loss: 0.006282031297683716\n",
      "验证集上的准确率: 0.8940000534057617\n",
      "==========epoch_9===========\n",
      "average_train_loss: 1.5661743112972804\n",
      "valid_loss: 0.006315544843673706\n",
      "验证集上的准确率: 0.8835000395774841\n",
      "==========epoch_10===========\n",
      "average_train_loss: 1.5544147448880332\n",
      "valid_loss: 0.006404628157615662\n",
      "验证集上的准确率: 0.8615000247955322\n",
      "==========epoch_11===========\n",
      "average_train_loss: 1.5518796273640223\n",
      "valid_loss: 0.00619523161649704\n",
      "验证集上的准确率: 0.9140000343322754\n",
      "==========epoch_12===========\n",
      "average_train_loss: 1.529287793806621\n",
      "valid_loss: 0.006221526205539703\n",
      "验证集上的准确率: 0.9050000309944153\n",
      "==========epoch_13===========\n",
      "average_train_loss: 1.52561297586986\n",
      "valid_loss: 0.0062568305134773254\n",
      "验证集上的准确率: 0.8990000486373901\n",
      "==========epoch_14===========\n",
      "average_train_loss: 1.5241232131208693\n",
      "valid_loss: 0.006098782002925873\n",
      "验证集上的准确率: 0.9380000233650208\n",
      "==========epoch_15===========\n",
      "average_train_loss: 1.5104994475841522\n",
      "valid_loss: 0.006108613789081573\n",
      "验证集上的准确率: 0.936500072479248\n",
      "==========epoch_16===========\n",
      "average_train_loss: 1.5114657580852509\n",
      "valid_loss: 0.006090829312801361\n",
      "验证集上的准确率: 0.936500072479248\n",
      "==========epoch_17===========\n",
      "average_train_loss: 1.5023362721715654\n",
      "valid_loss: 0.006131297945976257\n",
      "验证集上的准确率: 0.9260000586509705\n",
      "==========epoch_18===========\n",
      "average_train_loss: 1.513519184929984\n",
      "valid_loss: 0.006199267983436584\n",
      "验证集上的准确率: 0.9125000238418579\n",
      "==========epoch_19===========\n",
      "average_train_loss: 1.5082787828786033\n",
      "valid_loss: 0.006021865665912628\n",
      "验证集上的准确率: 0.9580000638961792\n",
      "==========epoch_20===========\n",
      "average_train_loss: 1.4977603086403437\n",
      "valid_loss: 0.006123607277870178\n",
      "验证集上的准确率: 0.9300000667572021\n",
      "==========epoch_21===========\n",
      "average_train_loss: 1.5027761501925332\n",
      "valid_loss: 0.006054882228374481\n",
      "验证集上的准确率: 0.9490000605583191\n",
      "==========epoch_22===========\n",
      "average_train_loss: 1.4924689318452562\n",
      "valid_loss: 0.006014904737472534\n",
      "验证集上的准确率: 0.9570000171661377\n",
      "==========epoch_23===========\n",
      "average_train_loss: 1.4896547070571355\n",
      "valid_loss: 0.006026899695396423\n",
      "验证集上的准确率: 0.9550000429153442\n",
      "==========epoch_24===========\n",
      "average_train_loss: 1.487333812883922\n",
      "valid_loss: 0.006046821653842926\n",
      "验证集上的准确率: 0.9500000476837158\n",
      "==========epoch_25===========\n",
      "average_train_loss: 1.4866593480110168\n",
      "valid_loss: 0.006034736216068268\n",
      "验证集上的准确率: 0.9535000324249268\n",
      "save success...\n"
     ]
    }
   ],
   "source": [
    "\n",
    "for epoch in range(n_epochs):\n",
    "    print(f\"==========epoch_{epoch+1}===========\")\n",
    "    # 先进行训练\n",
    "    total_train_loss = 0\n",
    "    count = 0\n",
    "    module.train(True)\n",
    "    for data in dataloader_train:\n",
    "        imgs, labels = data\n",
    "        imgs = imgs.cuda()\n",
    "        labels = labels.cuda()\n",
    "        output = module(imgs)\n",
    "        train_loss = loss(output, labels)\n",
    "        # 将原来的梯度清零\n",
    "        optimizer.zero_grad()\n",
    "        # 反向传播\n",
    "        train_loss.backward()\n",
    "        optimizer.step()\n",
    "        total_train_step += 1\n",
    "        count += 1\n",
    "        # 将训练时的损失记录到tensorboard\n",
    "        writer.add_scalar(\"train_loss\", train_loss.item(), total_train_step)\n",
    "        total_train_loss += train_loss.item()\n",
    "    print(f\"average_train_loss: {total_train_loss / count}\")    \n",
    "    \n",
    "    # 每轮训练结束后用验证集对模型进行评估\n",
    "    total_valid_loss, total_accuracy = 0, 0\n",
    "    # 使用评估模式，避免Droupout的影响\n",
    "    module.eval()\n",
    "    with torch.no_grad():   # 不进行优化\n",
    "        for imgs, labels in dataloader_valid:\n",
    "            imgs = imgs.cuda()\n",
    "            labels = labels.cuda()\n",
    "            output = module(imgs)\n",
    "            total_valid_loss += loss(output, labels).item()\n",
    "            accuracy = (output.argmax(1) == labels).sum()\n",
    "            total_accuracy += accuracy\n",
    "    valid_loss = total_valid_loss / len(dataset_valid)\n",
    "    print(f\"valid_loss: {valid_loss}\")\n",
    "    writer.add_scalar(\"valid_loss\", valid_loss, epoch+1)\n",
    "    valid_accuracy = total_accuracy / len(dataset_valid)\n",
    "    print(f\"验证集上的准确率: {valid_accuracy}\")\n",
    "    writer.add_scalar(\"valid_accuracy\", valid_accuracy, epoch+1)\n",
    "    # 保存模型\n",
    "    if epoch == n_epochs-1:\n",
    "        torch.save(module.state_dict(), \"ZH_Module.pth\")\n",
    "        print(\"save success...\")\n",
    "writer.close()"
   ]
  }
 ],
 "metadata": {
  "interpreter": {
   "hash": "97c26c7ca7ddf33bfe25a065a1a569171b4edb8af926135ebe171d67f7afa26c"
  },
  "kernelspec": {
   "display_name": "Python 3.9.0 ('py39')",
   "language": "python",
   "name": "python3"
  },
  "language_info": {
   "codemirror_mode": {
    "name": "ipython",
    "version": 3
   },
   "file_extension": ".py",
   "mimetype": "text/x-python",
   "name": "python",
   "nbconvert_exporter": "python",
   "pygments_lexer": "ipython3",
   "version": "3.9.0"
  },
  "orig_nbformat": 4
 },
 "nbformat": 4,
 "nbformat_minor": 2
}
