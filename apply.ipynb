{
 "cells": [
  {
   "cell_type": "code",
   "execution_count": 1,
   "metadata": {},
   "outputs": [],
   "source": [
    "import torch \n",
    "import torchvision\n",
    "from torchvision.datasets import ImageFolder\n",
    "from PIL import Image\n",
    "import os\n",
    "from module_yy import ZH_MNIST\n",
    "from torch.utils.tensorboard import SummaryWriter\n",
    "writer = SummaryWriter(\"output_log\")\n",
    "root_dir = \"./input\""
   ]
  },
  {
   "cell_type": "markdown",
   "metadata": {},
   "source": [
    "定义输出映射函数"
   ]
  },
  {
   "cell_type": "code",
   "execution_count": 2,
   "metadata": {},
   "outputs": [],
   "source": [
    "def output_label(x):\n",
    "    if(x == 0):\n",
    "        return 1\n",
    "    elif x == 1:\n",
    "        return 10\n",
    "    else:\n",
    "        return x"
   ]
  },
  {
   "cell_type": "markdown",
   "metadata": {},
   "source": [
    "加载训练好的模型"
   ]
  },
  {
   "cell_type": "code",
   "execution_count": 3,
   "metadata": {},
   "outputs": [
    {
     "data": {
      "text/plain": [
       "<All keys matched successfully>"
      ]
     },
     "execution_count": 3,
     "metadata": {},
     "output_type": "execute_result"
    }
   ],
   "source": [
    "net = ZH_MNIST()\n",
    "dict = torch.load(\"ZH_Module.pth\")\n",
    "net.load_state_dict(dict)"
   ]
  },
  {
   "cell_type": "code",
   "execution_count": 4,
   "metadata": {},
   "outputs": [],
   "source": [
    "img_list = os.listdir(\"./input_convert\")\n",
    "step = 0\n",
    "for img in img_list:\n",
    "    path = os.path.join(\"./input_convert\", img)\n",
    "    image = Image.open(path)\n",
    "    image = image.resize((64, 64))\n",
    "    image = image.convert('L')\n",
    "    file_name = f\"image_{step}.jpg\"\n",
    "    img_path = os.path.join(\"./input/in\", file_name)\n",
    "    image.save(img_path)\n",
    "    step += 1"
   ]
  },
  {
   "cell_type": "markdown",
   "metadata": {},
   "source": [
    "加载输入的图片并转换为张量"
   ]
  },
  {
   "cell_type": "code",
   "execution_count": 5,
   "metadata": {},
   "outputs": [
    {
     "name": "stdout",
     "output_type": "stream",
     "text": [
      "torch.Size([1, 3, 64, 64])\n",
      "torch.Size([1, 3, 64, 64])\n",
      "torch.Size([1, 3, 64, 64])\n"
     ]
    },
    {
     "data": {
      "text/plain": [
       "{'in': 0}"
      ]
     },
     "execution_count": 5,
     "metadata": {},
     "output_type": "execute_result"
    }
   ],
   "source": [
    "dataset = ImageFolder(root_dir, transform=torchvision.transforms.ToTensor())\n",
    "\n",
    "dataloader = torch.utils.data.DataLoader(dataset, batch_size=1, drop_last=False)\n",
    "for img,label in dataloader:\n",
    "    print(img.shape)\n",
    "dataset.class_to_idx"
   ]
  },
  {
   "cell_type": "code",
   "execution_count": 6,
   "metadata": {},
   "outputs": [
    {
     "name": "stdout",
     "output_type": "stream",
     "text": [
      "第1张图片预测数字为: 4\n",
      "第2张图片预测数字为: 7\n",
      "第3张图片预测数字为: 9\n"
     ]
    }
   ],
   "source": [
    "count = 0\n",
    "for img,labels in dataloader:\n",
    "    count += 1\n",
    "    labels = net(img)\n",
    "    #res = output_label(label)\n",
    "    label = labels.argmax(1)\n",
    "    res = output_label(label[0])\n",
    "    print(f\"第{count}张图片预测数字为: {res}\")\n",
    "writer.close()"
   ]
  }
 ],
 "metadata": {
  "interpreter": {
   "hash": "97c26c7ca7ddf33bfe25a065a1a569171b4edb8af926135ebe171d67f7afa26c"
  },
  "kernelspec": {
   "display_name": "Python 3.9.0 ('py39')",
   "language": "python",
   "name": "python3"
  },
  "language_info": {
   "codemirror_mode": {
    "name": "ipython",
    "version": 3
   },
   "file_extension": ".py",
   "mimetype": "text/x-python",
   "name": "python",
   "nbconvert_exporter": "python",
   "pygments_lexer": "ipython3",
   "version": "3.9.0"
  },
  "orig_nbformat": 4
 },
 "nbformat": 4,
 "nbformat_minor": 2
}
